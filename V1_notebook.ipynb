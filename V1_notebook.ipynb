{
 "cells": [
  {
   "cell_type": "markdown",
   "metadata": {},
   "source": [
    "# Notebook to run the V1 cortical column simulation and recreate figures from Billeh et al., 2020"
   ]
  },
  {
   "cell_type": "code",
   "execution_count": null,
   "metadata": {},
   "outputs": [],
   "source": [
    "%pip install -qU \"airavata-python-sdk[notebook]\"\n",
    "import airavata_jupyter_magic\n",
    "\n",
    "%authenticate\n",
    "%request_runtime hpc_cpu --file=cybershuttle.yml --walltime=60 --use=NeuroData25VC1:cloud\n",
    "%wait_for_runtime hpc_cpu --live\n",
    "%switch_runtime hpc_cpu"
   ]
  },
  {
   "cell_type": "code",
   "execution_count": null,
   "metadata": {},
   "outputs": [],
   "source": [
    "%%bash\n",
    "\n",
    "git clone https://github.com/cyber-shuttle/V1_example workspace\n",
    "ln -s $PWD/cybershuttle_data/allenai-v1/v1_point/network workspace/network\n",
    "ln -s $PWD/cybershuttle_data/allenai-v1/v1_point/components workspace/components"
   ]
  },
  {
   "cell_type": "code",
   "execution_count": null,
   "metadata": {},
   "outputs": [],
   "source": [
    "%cd workspace"
   ]
  },
  {
   "cell_type": "code",
   "execution_count": null,
   "metadata": {},
   "outputs": [],
   "source": [
    "import matplotlib.pyplot as plt\n",
    "import os\n",
    "import pathlib"
   ]
  },
  {
   "cell_type": "code",
   "execution_count": null,
   "metadata": {},
   "outputs": [],
   "source": [
    "filternet_config = 'filternet_configs/config.filternet.dg.2Hz.270deg.json'\n",
    "pointnet_config = 'v1_point_config/config.json'"
   ]
  },
  {
   "cell_type": "code",
   "execution_count": null,
   "metadata": {},
   "outputs": [],
   "source": [
    "#from run_filternet import run as run_filternet\n",
    "\n",
    "#run_filternet(filternet_config)"
   ]
  },
  {
   "cell_type": "code",
   "execution_count": null,
   "metadata": {},
   "outputs": [],
   "source": [
    "from run_pointnet import main as run_pointnet\n",
    "\n",
    "run_pointnet(pointnet_config)"
   ]
  },
  {
   "cell_type": "code",
   "execution_count": null,
   "metadata": {},
   "outputs": [],
   "source": [
    "import plotting_utils as pu\n",
    "\n",
    "pointnet_config = 'output/config.json'\n",
    "net = 'full'\n",
    "sortby='tuning_angle'\n",
    "radius = 400.0\n",
    "\n",
    "plt.figure(figsize=(10, 6))\n",
    "\n",
    "\n",
    "ax = pu.plot_raster(pointnet_config, sortby=sortby, **pu.settings[net])\n",
    "ax.set_xlim([0, 2500])\n",
    "plt.tight_layout()\n",
    "config_folder = os.path.dirname(pointnet_config)\n",
    "plt.savefig(f\"{config_folder}/raster_by_{sortby}.png\", dpi=300)"
   ]
  },
  {
   "cell_type": "code",
   "execution_count": null,
   "metadata": {},
   "outputs": [],
   "source": [
    "spikes_df, hue_order, color_dict, layer_divisions = pu.make_figure_elements(pointnet_config, radius, sortby)"
   ]
  },
  {
   "cell_type": "code",
   "execution_count": null,
   "metadata": {},
   "outputs": [],
   "source": [
    "# calculate firing rates\n",
    "rates = spikes_df[spikes_df['timestamps']>500.0].groupby(['Sorted ID'])['timestamps'].count()/2.5\n",
    "rates = rates.reset_index(name = 'Mean Rate')\n",
    "rates_df = spikes_df[['population', 'Sorted ID', 'Cell Type', 'Tuning Angle', 'location']].drop_duplicates('Sorted ID')\n",
    "rates_df = rates_df.merge(rates, how='left', left_on='Sorted ID', right_on = 'Sorted ID')\n"
   ]
  },
  {
   "cell_type": "code",
   "execution_count": null,
   "metadata": {},
   "outputs": [],
   "source": [
    "import seaborn as sns\n",
    "order = [1, 2, 4, 5, 6]\n",
    "sns.boxplot(rates_df, x='location', y='Mean Rate', hue='Cell Type', order=order)"
   ]
  },
  {
   "cell_type": "code",
   "execution_count": null,
   "metadata": {},
   "outputs": [],
   "source": [
    "from run_pointnet import main as run_pointnet\n",
    "\n",
    "pointnet_config_movie = 'v1_point_config/config.movie.json'\n",
    "run_pointnet(pointnet_config_movie)"
   ]
  },
  {
   "cell_type": "code",
   "execution_count": null,
   "metadata": {},
   "outputs": [],
   "source": [
    "import plotting_utils as pu\n",
    "pointnet_config_movie = 'output_movie/config.movie.json'\n",
    "net = 'full'\n",
    "sortby='tuning_angle'\n",
    "radius = 400.0\n",
    "\n",
    "plt.figure(figsize=(10, 6))\n",
    "\n",
    "\n",
    "ax = pu.plot_raster(pointnet_config_movie, sortby=sortby, **pu.settings[net])\n",
    "ax.set_xlim([0, 2500])\n",
    "plt.tight_layout()\n",
    "config_folder = os.path.dirname(pointnet_config_movie)\n",
    "plt.savefig(f\"{config_folder}/raster_by_{sortby}.png\", dpi=300)"
   ]
  },
  {
   "cell_type": "code",
   "execution_count": null,
   "metadata": {},
   "outputs": [],
   "source": [
    "pointnet_config_flash = 'v1_point_config/config.fullfield_250ms.json'\n",
    "run_pointnet(pointnet_config_flash)"
   ]
  },
  {
   "cell_type": "code",
   "execution_count": null,
   "metadata": {},
   "outputs": [],
   "source": [
    "pointnet_config_flash = 'output_flash/config.fullfield_250ms.json'\n",
    "net = 'full'\n",
    "sortby='tuning_angle'\n",
    "radius = 400.0\n",
    "\n",
    "plt.figure(figsize=(10, 6))\n",
    "\n",
    "\n",
    "ax = pu.plot_raster(pointnet_config_flash, sortby=sortby, **pu.settings[net])\n",
    "ax.set_xlim([0, 2500])\n",
    "plt.tight_layout()\n",
    "config_folder = os.path.dirname(pointnet_config_flash)\n",
    "plt.savefig(f\"{config_folder}/raster_by_{sortby}.png\", dpi=300)"
   ]
  },
  {
   "cell_type": "code",
   "execution_count": null,
   "metadata": {},
   "outputs": [],
   "source": [
    "%stop_runtime hpc_cpu\n",
    "%switch_runtime local"
   ]
  }
 ],
 "metadata": {
  "kernelspec": {
   "display_name": "Python 3",
   "language": "python",
   "name": "python3"
  },
  "language_info": {
   "codemirror_mode": {
    "name": "ipython",
    "version": 3
   },
   "file_extension": ".py",
   "mimetype": "text/x-python",
   "name": "python",
   "nbconvert_exporter": "python",
   "pygments_lexer": "ipython3",
   "version": "3.10.16"
  }
 },
 "nbformat": 4,
 "nbformat_minor": 4
}
